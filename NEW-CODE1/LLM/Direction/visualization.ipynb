{
 "cells": [
  {
   "cell_type": "code",
   "execution_count": 9,
   "outputs": [],
   "source": [
    "from langchain_community.llms.moonshot import Moonshot\n",
    "from langgraph.graph import  Graph\n",
    "moonshot = Moonshot(model=\"moonshot-v1-8k\")\n",
    "from typing import Dict, Any\n",
    "from LLM.data_info import data_info"
   ],
   "metadata": {
    "collapsed": false,
    "ExecuteTime": {
     "end_time": "2025-01-09T15:15:22.349759700Z",
     "start_time": "2025-01-09T15:15:22.340381300Z"
    }
   },
   "id": "16880d3b0d1dab8c"
  },
  {
   "cell_type": "code",
   "execution_count": 2,
   "outputs": [],
   "source": [
    "rpn_example='D_ts_std(D_Minute_weight_mean(M_cs_umr(M_at_div(M_at_div(M_ts_mean_mid_neighbor(M_V, 3), M_ts_mean_left_neighbor(M_V, 3)), M_at_div(M_ts_delay(M_V, 2), M_ts_mean_right_neighbor(M_V, 5))), M_at_add(M_at_div(M_ts_mean_left_neighbor(M_C, 10), M_ts_mean_mid_neighbor(M_L, 2)), M_cs_scale(M_ts_mean_right_neighbor(M_C, 2)))), M_toD_standard(M_cs_rank(M_ts_mean_mid_neighbor(M_L, 2)), D_ts_norm(D_ts_delay(D_L, 20), 2))), 2)'\n",
    "\n",
    "parser_example={\n",
    "    'tree':['D_ts_std(subtree_ARG0,2)'],\n",
    "    'subtree':['D_Minute_weight_mean(trunk_ARG0,trunk_ARG1)'],\n",
    "    'trunk':['M_cs_umr(root_ARG0,root_ARG1)','M_toD_standard(root_ARG2,root_ARG3)'],\n",
    "    'root':['M_cs_umr(M_at_div(M_at_div(seed_ARG0,seed_ARG1), M_at_div(seed_ARG2, seed_ARG3)), M_at_add(M_at_div(seed_ARG4, seed_ARG5, M_cs_scale(seed_ARG6)))',\n",
    "            'M_toD_standard(M_cs_rank(seed_ARG7), seed_ARG8)'],\n",
    "    'seed':['M_ts_mean_mid_neighbor(M_V, 3)',\n",
    "            'M_ts_mean_left_neighbor(M_V, 3)',\n",
    "            'M_ts_delay(M_V, 2)',\n",
    "            'M_ts_mean_right_neighbor(M_V, 5)',\n",
    "            'M_ts_mean_left_neighbor(M_C, 10)',\n",
    "            'M_ts_mean_mid_neighbor(M_L, 2)',\n",
    "            'M_ts_mean_right_neighbor(M_C, 2)',\n",
    "            'M_ts_mean_mid_neighbor(M_L, 2)',\n",
    "            'D_ts_delay(D_L, 20)',]\n",
    "}"
   ],
   "metadata": {
    "collapsed": false,
    "ExecuteTime": {
     "end_time": "2025-01-09T15:07:28.024400100Z",
     "start_time": "2025-01-09T15:07:28.018070600Z"
    }
   },
   "id": "2d29973b1518a626"
  },
  {
   "cell_type": "code",
   "execution_count": null,
   "outputs": [],
   "source": [
    "root= {'abbreviation':\n",
    "    ['M_cs_umr(M_at_div(M_at_div(seed_ARG0,seed_ARG1), M_at_div(seed_ARG2, seed_ARG3)), M_at_add(M_at_div(seed_ARG4, seed_ARG5, M_cs_scale(seed_ARG6)))',\n",
    "    'M_toD_standard(M_cs_rank(seed_ARG7), seed_ARG8)'],\n",
    "       'tree_mode':list[int],\n",
    "       }"
   ],
   "metadata": {
    "collapsed": false
   },
   "id": "32c93624cab4f5e1"
  },
  {
   "cell_type": "code",
   "execution_count": 7,
   "outputs": [],
   "source": [
    "graph = Graph()"
   ],
   "metadata": {
    "collapsed": false,
    "ExecuteTime": {
     "start_time": "2025-01-09T15:14:09.804894500Z"
    }
   },
   "id": "616ab9b8f467021a"
  },
  {
   "cell_type": "code",
   "execution_count": null,
   "outputs": [],
   "source": [
    "initial_state={\n",
    "    'input_text':parser_example,\n",
    "    'context':{\n",
    "        'project':'你要按照我下面的descripition完成针对input_text的理解',\n",
    "        'sequence': ['seed','root','trunk','subtree','tree'],\n",
    "        'description':'sequence里面告诉了你处理顺序，下层是上层的输入，比如root的输入是seed；你要根据下层输入的处理后的数据，结合当前层的算子，考虑当前层处理以后输出的东西有怎样具体的逻辑含义'\n",
    "    },\n",
    "    'current_step_output':{\n",
    "    }  \n",
    "}"
   ],
   "metadata": {
    "collapsed": false
   },
   "id": "b6bd419b516d63bf"
  },
  {
   "cell_type": "code",
   "execution_count": null,
   "outputs": [],
   "source": [
    "def generate_node_func(layer:str,node_id: int,prompt):\n",
    "    def node_func(state: Dict[str, Any]) -> Dict[str, Any]:\n",
    "        input_text = state.get(\"input_text\", \"\")\n",
    "        op_info = state.get(\"context\", {}).get(\"op_info\", \"\")\n",
    "        data_info = state.get(\"context\", {}).get(\"data_info\", \"\")\n",
    "    \n",
    "        # 构建提示词\n",
    "        prompt = f\"\"\"\n",
    "        请你根据以下信息，考虑处理完的数据有怎样的逻辑含义：\n",
    "        - 输入文本: {input_text}\n",
    "        - 操作信息: {op_info}\n",
    "        - 数据信息: {data_info}\n",
    "        \"\"\"\n",
    "        response = moonshot.invoke(prompt)\n",
    "        \n",
    "        state[f\"node_{node_id}_output\"] = response\n",
    "        return state\n",
    "    \n",
    "    return node_func"
   ],
   "metadata": {
    "collapsed": false
   },
   "id": "8124944d8dbe241"
  },
  {
   "cell_type": "code",
   "execution_count": null,
   "outputs": [],
   "source": [
    "def parse_input(organ:str) -> int:\n",
    "    return len(parser_example[organ])\n",
    "\n",
    "num_nodes = parse_input(parser_example)\n",
    "\n",
    "def initial_node(state: Dict[str, Any]) -> Dict[str, Any]:\n",
    "    state[\"initial_output\"] = \"Initial output\"\n",
    "    return state\n",
    "\n",
    "graph.add_node(\"initial_node\", initial_node)\n"
   ],
   "metadata": {
    "collapsed": false
   },
   "id": "f0e39bec668663b7"
  }
 ],
 "metadata": {
  "kernelspec": {
   "display_name": "Python 3",
   "language": "python",
   "name": "python3"
  },
  "language_info": {
   "codemirror_mode": {
    "name": "ipython",
    "version": 2
   },
   "file_extension": ".py",
   "mimetype": "text/x-python",
   "name": "python",
   "nbconvert_exporter": "python",
   "pygments_lexer": "ipython2",
   "version": "2.7.6"
  }
 },
 "nbformat": 4,
 "nbformat_minor": 5
}
