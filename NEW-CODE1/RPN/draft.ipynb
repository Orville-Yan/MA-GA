{
 "cells": [
  {
   "cell_type": "code",
   "execution_count": 1,
   "id": "initial_id",
   "metadata": {
    "collapsed": true,
    "ExecuteTime": {
     "end_time": "2025-02-21T06:17:45.477741800Z",
     "start_time": "2025-02-21T06:17:43.462348200Z"
    }
   },
   "outputs": [],
   "source": [
    "import torch\n",
    "from RPNbuilder import *\n",
    "from OP import *\n",
    "import re\n",
    "from RPN import *\n",
    "from OrganAbstractClass import *"
   ]
  },
  {
   "cell_type": "code",
   "execution_count": 2,
   "outputs": [],
   "source": [
    "producer=RPN_Producer()\n",
    "producer.run()\n",
    "rpns=producer.tree"
   ],
   "metadata": {
    "collapsed": false,
    "ExecuteTime": {
     "end_time": "2025-02-21T06:17:45.486265300Z",
     "start_time": "2025-02-21T06:17:45.478739800Z"
    }
   },
   "id": "4eb3a76420add6d8"
  },
  {
   "cell_type": "code",
   "execution_count": 5,
   "outputs": [],
   "source": [
    "parser=RPN_Parser(rpns[0])\n",
    "parser.get_tree_structure()\n",
    "parser.parse_tree()"
   ],
   "metadata": {
    "collapsed": false,
    "ExecuteTime": {
     "end_time": "2025-02-21T06:18:22.936743200Z",
     "start_time": "2025-02-21T06:18:22.933233100Z"
    }
   },
   "id": "5847db35755a275c"
  },
  {
   "cell_type": "code",
   "execution_count": 10,
   "outputs": [],
   "source": [
    "class RPN_Compiler:\n",
    "    def __init__(self, year_list, device=torch.device(\"cuda\")):\n",
    "\n",
    "        self.year_list = year_list\n",
    "        self.general_pset = general_pset.pset\n",
    "        self.device = device\n",
    "        self.__init_data(self.year_list)\n",
    "\n",
    "    def __init_data(self, year_list):\n",
    "        self.data_reader = MmapReader()\n",
    "        self.day_list = self.data_reader.get_daylist(year_list)\n",
    "        self.D_O, self.D_H, self.D_L, self.D_C, self.D_V = list(self.data_reader.get_Day_data(year_list))\n",
    "        self.industry = [self.data_reader.get_Barra(year_list)[:, :, 10:].to(self.device)]\n",
    "\n",
    "    def extract_op(self, expression):\n",
    "        op_list = []\n",
    "        # 初始化一个列表，用于存储左括号、右括号和逗号的位置\n",
    "        positions = []\n",
    "        # 初始化括号计数器\n",
    "        bracket_count = 0\n",
    "        # 遍历表达式字符串\n",
    "        for i, char in enumerate(expression):\n",
    "            if char == '(':\n",
    "                # 如果是左括号，计数器加1\n",
    "                bracket_count += 1\n",
    "                if bracket_count == 1:\n",
    "                    # 记录第一个左括号的位置\n",
    "                    positions.append(i)\n",
    "            elif char == ')':\n",
    "                # 如果是右括号，计数器减1\n",
    "                bracket_count -= 1\n",
    "                if bracket_count == 0:\n",
    "                    # 如果括号计数器为0，说明找到了匹配的右括号，记录位置\n",
    "                    positions.append(i)\n",
    "            elif char == ',' and bracket_count == 1:\n",
    "                # 如果是逗号且括号计数器为1，记录逗号位置\n",
    "                positions.append(i)\n",
    "\n",
    "        # 如果没有记录任何位置，说明这段表达式中没有算子\n",
    "        if not positions:\n",
    "            return op_list\n",
    "\n",
    "        # 提取第一个左括号之前的所有字符，即算子名称\n",
    "        op_name = expression[:positions[0]]\n",
    "        # 将算子名称添加到结果列表中\n",
    "        op_list.append(op_name)\n",
    "\n",
    "        # 如果有多个位置记录，说明有嵌套的算子\n",
    "        if len(positions) > 1:\n",
    "            # 遍历所有记录的位置，提取子表达式并递归调用\n",
    "            for start, end in zip(positions[:-1], positions[1:]):\n",
    "                # 提取子表达式\n",
    "                sub_expression = expression[start + 1:end]\n",
    "                # 递归调用函数，传入空列表\n",
    "                sub_list = self.extract_op(sub_expression)\n",
    "                # 将递归调用的结果扩展到主列表中\n",
    "                op_list.extend(sub_list)\n",
    "        return op_list\n",
    "\n",
    "    def add_op_class(self, op):\n",
    "        interface = op_info[op.strip()]['classification']['interface']\n",
    "        return f\"OP_{interface['属'][:-1]}2{interface['目'][:-1]}.{op}\"\n",
    "\n",
    "    def replace_primities(self, rpn):\n",
    "        used_op = self.extract_op(rpn)\n",
    "        used_op = [i.strip() for i in used_op]\n",
    "        used_op = list(dict.fromkeys(used_op))\n",
    "        for op in used_op:\n",
    "            rpn = rpn.replace(op, self.add_op_class(op))\n",
    "        return rpn\n",
    "\n",
    "    def replace_D_tensor(self, rpn):\n",
    "        count = 0\n",
    "        pattern = r\"D_tensor\"\n",
    "\n",
    "        def replacer(match):\n",
    "            nonlocal count  # 使用 nonlocal 关键字访问外部的 count 变量\n",
    "            current_count = count  # 保存当前计数\n",
    "            count += 1  # 计数器递增\n",
    "            return f\"D_tensor{current_count}\"  # 返回替换后的字符串 D_i\n",
    "\n",
    "        result = re.sub(pattern, replacer, rpn)\n",
    "        return result\n",
    "\n",
    "    def compile_module1(self, rpn, D_tensor: [torch.Tensor]):\n",
    "        rpn = self.replace_D_tensor(rpn)\n",
    "        rpn = self.replace_primities(rpn)\n",
    "\n",
    "        for i in range(len(D_tensor)):\n",
    "            locals()[f'D_tensor{i}'] = D_tensor[i].to(self.device)\n",
    "\n",
    "        return eval(rpn)\n",
    "\n",
    "    def compile_module2(self, rpn, D_tensor: [torch.Tensor]):\n",
    "\n",
    "        rpn = self.replace_D_tensor(rpn)\n",
    "        rpn = self.replace_primities(rpn)\n",
    "\n",
    "        for i in range(len(D_tensor)):\n",
    "            locals()[f'D_tensor_all{i}'] = D_tensor[i]\n",
    "\n",
    "        template = torch.full((len(self.day_list), len(self.data_reader.DailyDataReader.StockCodes)), float('nan'))\n",
    "        for i, day in tqdm(enumerate(self.day_list)):\n",
    "            M_O, M_H, M_L, M_C, M_V = self.data_reader.get_Minute_data_daily(day)\n",
    "            M_O, M_H, M_L, M_C, M_V = [i.to(self.device) for i in [M_O, M_H, M_L, M_C, M_V]]\n",
    "            for j in range(len(D_tensor)):\n",
    "                locals()[f'D_tensor{j}'] = locals()[f'D_tensor_all{j}'][i].to(self.device)\n",
    "            template[i] = eval(rpn)\n",
    "\n",
    "        return template\n",
    "\n",
    "    def adjust_memorizer(self, deap_primitive, string_memorizer):\n",
    "        expr = f\"{deap_primitive.name}({', '.join(string_memorizer[:deap_primitive.arity])})\"\n",
    "        string_memorizer = string_memorizer[deap_primitive.arity:]\n",
    "        string_memorizer.insert(0, expr)\n",
    "        return string_memorizer\n",
    "\n",
    "    def compile(self, rpn):\n",
    "        name = general_pset.input1 + general_pset.input2 + general_pset.input3 + general_pset.input4 + general_pset.input5\n",
    "        deap_code = gp.PrimitiveTree.from_string(rpn, self.general_pset)\n",
    "        deap_code.reverse()\n",
    "        D_tensor_memorizer = []\n",
    "        string_memorizer = []\n",
    "        for code in deap_code:\n",
    "            if isinstance(code, gp.Terminal):\n",
    "\n",
    "                if code.name.startswith('ARG') and int(code.name[3:]) >= 5:\n",
    "                    D_tensor_memorizer.insert(0, getattr(self, name[int(code.name[3:])]))\n",
    "                    string_memorizer.insert(0, 'D_tensor')\n",
    "\n",
    "                elif code.name.startswith('ARG') and int(code.name[3:]) < 5:\n",
    "                    string_memorizer.insert(0, name[int(code.name[3:])])\n",
    "\n",
    "                else:\n",
    "                    string_memorizer.insert(0, code.name)\n",
    "\n",
    "            if isinstance(code, gp.Primitive):\n",
    "                if code.name.startswith('D'):\n",
    "                    string_memorizer = self.adjust_memorizer(code, string_memorizer)\n",
    "                    flag = any(item in string_memorizer[0] for item in name[:5])\n",
    "\n",
    "                    if flag == 0:\n",
    "                        count = string_memorizer[0].count(\"D_tensor\")\n",
    "                        result = self.compile_module1(string_memorizer[0], D_tensor_memorizer[:count])\n",
    "                        D_tensor_memorizer = D_tensor_memorizer[count:]\n",
    "                        D_tensor_memorizer.insert(0, result)\n",
    "                        string_memorizer[0] = 'D_tensor'\n",
    "\n",
    "                    elif flag == 1:\n",
    "                        count = string_memorizer[0].count(\"D_tensor\")\n",
    "                        result = self.compile_module2(string_memorizer[0], D_tensor_memorizer[:count])\n",
    "                        D_tensor_memorizer = D_tensor_memorizer[count:]\n",
    "                        D_tensor_memorizer.insert(0, result)\n",
    "                        string_memorizer[0] = 'D_tensor'\n",
    "\n",
    "                elif code.name.startswith('M'):\n",
    "                    string_memorizer = self.adjust_memorizer(code, string_memorizer)\n",
    "\n",
    "        return D_tensor_memorizer[0]"
   ],
   "metadata": {
    "collapsed": false,
    "ExecuteTime": {
     "end_time": "2025-02-21T06:20:26.217181600Z",
     "start_time": "2025-02-21T06:20:26.213047Z"
    }
   },
   "id": "8a474bae7c344a4e"
  },
  {
   "cell_type": "code",
   "execution_count": 11,
   "outputs": [
    {
     "ename": "KeyError",
     "evalue": "'D_cs_industry_neutra'",
     "output_type": "error",
     "traceback": [
      "\u001B[1;31m---------------------------------------------------------------------------\u001B[0m",
      "\u001B[1;31mKeyError\u001B[0m                                  Traceback (most recent call last)",
      "Cell \u001B[1;32mIn[11], line 2\u001B[0m\n\u001B[0;32m      1\u001B[0m compiler\u001B[38;5;241m=\u001B[39mRPN_Compiler(\u001B[38;5;28mrange\u001B[39m(\u001B[38;5;241m2016\u001B[39m,\u001B[38;5;241m2017\u001B[39m))\n\u001B[1;32m----> 2\u001B[0m factor\u001B[38;5;241m=\u001B[39mcompiler\u001B[38;5;241m.\u001B[39mcompile(rpns[\u001B[38;5;241m0\u001B[39m])\n",
      "Cell \u001B[1;32mIn[10], line 144\u001B[0m, in \u001B[0;36mRPN_Compiler.compile\u001B[1;34m(self, rpn)\u001B[0m\n\u001B[0;32m    142\u001B[0m \u001B[38;5;28;01mif\u001B[39;00m flag \u001B[38;5;241m==\u001B[39m \u001B[38;5;241m0\u001B[39m:\n\u001B[0;32m    143\u001B[0m     count \u001B[38;5;241m=\u001B[39m string_memorizer[\u001B[38;5;241m0\u001B[39m]\u001B[38;5;241m.\u001B[39mcount(\u001B[38;5;124m\"\u001B[39m\u001B[38;5;124mD_tensor\u001B[39m\u001B[38;5;124m\"\u001B[39m)\n\u001B[1;32m--> 144\u001B[0m     result \u001B[38;5;241m=\u001B[39m \u001B[38;5;28mself\u001B[39m\u001B[38;5;241m.\u001B[39mcompile_module1(string_memorizer[\u001B[38;5;241m0\u001B[39m], D_tensor_memorizer[:count])\n\u001B[0;32m    145\u001B[0m     D_tensor_memorizer \u001B[38;5;241m=\u001B[39m D_tensor_memorizer[count:]\n\u001B[0;32m    146\u001B[0m     D_tensor_memorizer\u001B[38;5;241m.\u001B[39minsert(\u001B[38;5;241m0\u001B[39m, result)\n",
      "Cell \u001B[1;32mIn[10], line 87\u001B[0m, in \u001B[0;36mRPN_Compiler.compile_module1\u001B[1;34m(self, rpn, D_tensor)\u001B[0m\n\u001B[0;32m     85\u001B[0m \u001B[38;5;28;01mdef\u001B[39;00m \u001B[38;5;21mcompile_module1\u001B[39m(\u001B[38;5;28mself\u001B[39m, rpn, D_tensor: [torch\u001B[38;5;241m.\u001B[39mTensor]):\n\u001B[0;32m     86\u001B[0m     rpn \u001B[38;5;241m=\u001B[39m \u001B[38;5;28mself\u001B[39m\u001B[38;5;241m.\u001B[39mreplace_D_tensor(rpn)\n\u001B[1;32m---> 87\u001B[0m     rpn \u001B[38;5;241m=\u001B[39m \u001B[38;5;28mself\u001B[39m\u001B[38;5;241m.\u001B[39mreplace_primities(rpn)\n\u001B[0;32m     89\u001B[0m     \u001B[38;5;28;01mfor\u001B[39;00m i \u001B[38;5;129;01min\u001B[39;00m \u001B[38;5;28mrange\u001B[39m(\u001B[38;5;28mlen\u001B[39m(D_tensor)):\n\u001B[0;32m     90\u001B[0m         \u001B[38;5;28mlocals\u001B[39m()[\u001B[38;5;124mf\u001B[39m\u001B[38;5;124m'\u001B[39m\u001B[38;5;124mD_tensor\u001B[39m\u001B[38;5;132;01m{\u001B[39;00mi\u001B[38;5;132;01m}\u001B[39;00m\u001B[38;5;124m'\u001B[39m] \u001B[38;5;241m=\u001B[39m D_tensor[i]\u001B[38;5;241m.\u001B[39mto(\u001B[38;5;28mself\u001B[39m\u001B[38;5;241m.\u001B[39mdevice)\n",
      "Cell \u001B[1;32mIn[10], line 69\u001B[0m, in \u001B[0;36mRPN_Compiler.replace_primities\u001B[1;34m(self, rpn)\u001B[0m\n\u001B[0;32m     67\u001B[0m used_op \u001B[38;5;241m=\u001B[39m \u001B[38;5;28mlist\u001B[39m(\u001B[38;5;28mdict\u001B[39m\u001B[38;5;241m.\u001B[39mfromkeys(used_op))\n\u001B[0;32m     68\u001B[0m \u001B[38;5;28;01mfor\u001B[39;00m op \u001B[38;5;129;01min\u001B[39;00m used_op:\n\u001B[1;32m---> 69\u001B[0m     rpn \u001B[38;5;241m=\u001B[39m rpn\u001B[38;5;241m.\u001B[39mreplace(op, \u001B[38;5;28mself\u001B[39m\u001B[38;5;241m.\u001B[39madd_op_class(op))\n\u001B[0;32m     70\u001B[0m \u001B[38;5;28;01mreturn\u001B[39;00m rpn\n",
      "Cell \u001B[1;32mIn[10], line 61\u001B[0m, in \u001B[0;36mRPN_Compiler.add_op_class\u001B[1;34m(self, op)\u001B[0m\n\u001B[0;32m     60\u001B[0m \u001B[38;5;28;01mdef\u001B[39;00m \u001B[38;5;21madd_op_class\u001B[39m(\u001B[38;5;28mself\u001B[39m, op):\n\u001B[1;32m---> 61\u001B[0m     interface \u001B[38;5;241m=\u001B[39m op_info[op\u001B[38;5;241m.\u001B[39mstrip()][\u001B[38;5;124m'\u001B[39m\u001B[38;5;124mclassification\u001B[39m\u001B[38;5;124m'\u001B[39m][\u001B[38;5;124m'\u001B[39m\u001B[38;5;124minterface\u001B[39m\u001B[38;5;124m'\u001B[39m]\n\u001B[0;32m     62\u001B[0m     \u001B[38;5;28;01mreturn\u001B[39;00m \u001B[38;5;124mf\u001B[39m\u001B[38;5;124m\"\u001B[39m\u001B[38;5;124mOP_\u001B[39m\u001B[38;5;132;01m{\u001B[39;00minterface[\u001B[38;5;124m'\u001B[39m\u001B[38;5;124m属\u001B[39m\u001B[38;5;124m'\u001B[39m][:\u001B[38;5;241m-\u001B[39m\u001B[38;5;241m1\u001B[39m]\u001B[38;5;132;01m}\u001B[39;00m\u001B[38;5;124m2\u001B[39m\u001B[38;5;132;01m{\u001B[39;00minterface[\u001B[38;5;124m'\u001B[39m\u001B[38;5;124m目\u001B[39m\u001B[38;5;124m'\u001B[39m][:\u001B[38;5;241m-\u001B[39m\u001B[38;5;241m1\u001B[39m]\u001B[38;5;132;01m}\u001B[39;00m\u001B[38;5;124m.\u001B[39m\u001B[38;5;132;01m{\u001B[39;00mop\u001B[38;5;132;01m}\u001B[39;00m\u001B[38;5;124m\"\u001B[39m\n",
      "\u001B[1;31mKeyError\u001B[0m: 'D_cs_industry_neutra'"
     ]
    }
   ],
   "source": [
    "compiler=RPN_Compiler(range(2016,2017))\n",
    "factor=compiler.compile(rpns[0])"
   ],
   "metadata": {
    "collapsed": false,
    "ExecuteTime": {
     "end_time": "2025-02-21T06:20:28.174900100Z",
     "start_time": "2025-02-21T06:20:26.682990700Z"
    }
   },
   "id": "f9e54fabce6f0743"
  },
  {
   "cell_type": "code",
   "execution_count": null,
   "outputs": [],
   "source": [],
   "metadata": {
    "collapsed": false
   },
   "id": "3609283fa9ff1b33"
  }
 ],
 "metadata": {
  "kernelspec": {
   "display_name": "Python 3",
   "language": "python",
   "name": "python3"
  },
  "language_info": {
   "codemirror_mode": {
    "name": "ipython",
    "version": 2
   },
   "file_extension": ".py",
   "mimetype": "text/x-python",
   "name": "python",
   "nbconvert_exporter": "python",
   "pygments_lexer": "ipython2",
   "version": "2.7.6"
  }
 },
 "nbformat": 4,
 "nbformat_minor": 5
}
