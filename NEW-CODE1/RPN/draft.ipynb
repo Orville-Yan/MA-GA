{
 "cells": [
  {
   "cell_type": "code",
   "execution_count": 1,
   "id": "initial_id",
   "metadata": {
    "collapsed": true,
    "ExecuteTime": {
     "end_time": "2025-01-05T11:47:58.754410800Z",
     "start_time": "2025-01-05T11:47:56.516504700Z"
    }
   },
   "outputs": [],
   "source": [
    "import sys\n",
    "sys.path.append(\"..\")\n",
    "from ToolsGA import *\n",
    "from OP import *\n",
    "from RPN import *\n",
    "from deap import gp, creator, base, tools\n",
    "import warnings\n",
    "warnings.filterwarnings('ignore',category=RuntimeWarning)\n",
    "class config:\n",
    "    seed_size=10\n",
    "    root_size=10\n",
    "    branch_size=10\n",
    "    trunk_size=10\n",
    "    subtree_size=10\n",
    "    tree_size=10\n",
    "\n",
    "\n",
    "class RPN_Producer:\n",
    "    def __init__(self):\n",
    "        self.D_OHLC = ['D_O', 'D_H', 'D_L', 'D_C']\n",
    "        self.D_V = ['D_V']\n",
    "        self.M_OHLC = ['M_O', 'M_H', 'M_L', 'M_C']\n",
    "        self.M_V = ['M_V']\n",
    "\n",
    "    def generate_seed(self):\n",
    "        DP_Seed_generator = DP_Seed(self.D_OHLC, config.seed_size)\n",
    "        DP_Seed_generator.run()\n",
    "        self.dp_seed = DP_Seed_generator.individuals_str\n",
    "\n",
    "        DV_Seed_generator = DP_Seed(self.D_V, config.seed_size)\n",
    "        DV_Seed_generator.run()\n",
    "        self.dv_seed = DV_Seed_generator.individuals_str\n",
    "\n",
    "        MV_Seed_generator = MV_Seed(self.M_V, config.seed_size)\n",
    "        MV_Seed_generator.run()\n",
    "        self.mv_seed = MV_Seed_generator.individuals_str\n",
    "\n",
    "        MP_Seed_generator = MP_Seed(self.M_OHLC, config.seed_size)\n",
    "        MP_Seed_generator.run()\n",
    "        self.mp_seed = MP_Seed_generator.individuals_str\n",
    "\n",
    "    def generate_root(self):\n",
    "        MP_Root_generator = MP_Root(self.mp_seed, config.root_size)\n",
    "        MP_Root_generator.generate_MP_Root()\n",
    "        self.mp_root = MP_Root_generator.individuals_str\n",
    "\n",
    "        DP_Root_generator = DP_Root(self.dp_seed, config.root_size)\n",
    "        DP_Root_generator.generate_DP_Root()\n",
    "        self.dp_root = DP_Root_generator.individuals_str\n",
    "\n",
    "        DV_Root_generator = DV_Root(self.dv_seed, config.root_size)\n",
    "        DV_Root_generator.generate_DV_Root()\n",
    "        self.dv_root = DV_Root_generator.individuals_str\n",
    "\n",
    "        MV_Root_generator = MV_Root(self.mv_seed, config.root_size)\n",
    "        MV_Root_generator.generate_MV_Root()\n",
    "        self.mv_root = MV_Root_generator.individuals_str\n",
    "\n",
    "        self.m_root = self.mv_root + self.mp_root\n",
    "        self.d_root = self.dv_root + self.dp_root\n",
    "\n",
    "    def generate_branch(self):\n",
    "        self.m_branch = []\n",
    "\n",
    "        M_Branch_MP2D_generator = M_Branch_MP2D(self.mp_seed, config.branch_size)\n",
    "        M_Branch_MP2D_generator.run()\n",
    "        self.m_branch.extend(M_Branch_MP2D_generator.individuals_str)\n",
    "\n",
    "        M_Branch_MPDP2D_generator = M_Branch_MPDP2D(self.mp_seed, self.dp_seed, config.branch_size)\n",
    "        M_Branch_MPDP2D_generator.run()\n",
    "        self.m_branch.extend(M_Branch_MP2D_generator.individuals_str)\n",
    "\n",
    "        M_Branch_MV2D_generator = M_Branch_MV2D(self.mv_seed, config.branch_size)\n",
    "        M_Branch_MV2D_generator.run()\n",
    "        self.m_branch.extend(M_Branch_MV2D_generator.individuals_str)\n",
    "\n",
    "        M_Branch_MVDV2D_generator = M_Branch_MVDV2D(self.mv_seed, self.dv_seed, config.branch_size)\n",
    "        M_Branch_MVDV2D_generator.run()\n",
    "        self.m_branch.extend(M_Branch_MVDV2D_generator.individuals_str)\n",
    "\n",
    "    def generate_trunk(self):\n",
    "        Trunk_generator = Trunk(self.m_root, self.d_root, self.m_branch, ['industry'], config.trunk_size)\n",
    "        Trunk_generator.generate_toolbox()\n",
    "        Trunk_generator.generate_Trunk()\n",
    "        self.trunk = Trunk_generator.individuals_str\n",
    "\n",
    "    def generate_subtree(self):\n",
    "        self.subtree = []\n",
    "\n",
    "        Subtree_withMask_generator = SubtreeWithMask(self.trunk, self.m_branch, config.subtree_size)\n",
    "        Subtree_withMask_generator.run()\n",
    "        self.subtree.extend(Subtree_withMask_generator.individuals_str)\n",
    "\n",
    "        Subtree_noMask_generator = SubtreeNoMask(self.trunk, config.subtree_size)\n",
    "        Subtree_noMask_generator.run()\n",
    "        self.subtree.extend(Subtree_noMask_generator.individuals_str)\n",
    "\n",
    "    def generate_tree(self):\n",
    "        Tree_generator = Tree(self.subtree, config.tree_size)\n",
    "        Tree_generator.generate_toolbox()\n",
    "        Tree_generator.generate_tree()\n",
    "        self.tree = Tree_generator.individuals_str\n",
    "\n",
    "    def run(self):\n",
    "        self.generate_seed()\n",
    "        self.generate_root()\n",
    "        self.generate_branch()\n",
    "        self.generate_trunk()\n",
    "        self.generate_subtree()\n",
    "        self.generate_tree()\n",
    "\n",
    "\n",
    "class RPN_Compiler:\n",
    "    def __init__(self, year_list):\n",
    "        self.input1 = ['M_O', 'M_H', 'M_L', 'M_C', 'M_V']\n",
    "        self.input2 = ['D_O', 'D_H', 'D_L', 'D_C', 'D_V']\n",
    "        self.input3 = ['industry']\n",
    "        self.input4 = ['TypeD_data']\n",
    "        self.input5 = ['TypeC_data']\n",
    "        self.year_list = year_list\n",
    "\n",
    "    def prepare_data(self):\n",
    "        data_reader = DataReader()\n",
    "        \n",
    "        Minute_data = data_reader.get_Minute_data(self.year_list)\n",
    "        \n",
    "        Day_data = data_reader.get_Day_data(self.year_list)\n",
    "        \n",
    "        industry_data = data_reader.get_barra(self.year_list)[:, :, 10:]\n",
    "        \n",
    "        TypeD_data=OP_B2D.Mmask_1h_after_open(Minute_data[0])\n",
    "        \n",
    "        TypeC_data=OP_AF2C.Dmask_min(Day_data[0],20)\n",
    "        \n",
    "        self.data = list(Minute_data) + list(Day_data) + [industry_data] + [TypeD_data] + [TypeC_data]\n",
    "        del Minute_data,Day_data,industry_data,TypeD_data,TypeC_data\n",
    "\n",
    "    def generate_toolbox(self):\n",
    "        self.pset = gp.PrimitiveSetTyped(\"MAIN\", [TypeB] * 5 + [TypeA] * 5 + [TypeE] + [TypeD] + [TypeC], TypeA)\n",
    "        name = self.input1 + self.input2 + self.input3 + self.input4 + self.input5\n",
    "        for i in range(len(name)):\n",
    "            self.pset.renameArguments(**{f'ARG{i}': name[i]})\n",
    "\n",
    "        if not hasattr(creator, \"FitnessMax\"):\n",
    "            creator.create(\"FitnessMax\", base.Fitness, weights=(1.0,))\n",
    "        creator.create('Tree_Compiler', gp.PrimitiveTree, fitness=creator.FitnessMax, pset=self.pset)\n",
    "\n",
    "        self.toolbox = base.Toolbox()\n",
    "        self.toolbox.register(\"expr\", gp.genHalfAndHalf, pset=self.pset, min_=1, max_=10)\n",
    "        self.toolbox.register('Tree_Compiler', tools.initIterate, getattr(creator, 'Tree_Compiler'), self.toolbox.expr)\n",
    "        self.toolbox.register(\"population\", tools.initRepeat, list, getattr(self.toolbox, 'Tree_Compiler'))\n",
    "        self.toolbox.register(\"compile\", gp.compile, pset=self.pset)\n",
    "        \n",
    "        self.add_all_primitives()\n",
    "\n",
    "    def add_primitive_byclass(self, op_classname):\n",
    "        parts = op_classname.split('2')\n",
    "        part1 = parts[0].split('_')[1]\n",
    "        part2 = parts[1]\n",
    "\n",
    "        op = globals()[op_classname]()\n",
    "        for func_name in op.func_list:\n",
    "            func = getattr(op, func_name)\n",
    "            input_class_list = [globals()[f\"Type{char}\"] for char in part1]\n",
    "            output_class = globals()[f\"Type{part2}\"]\n",
    "            self.pset.addPrimitive(func, input_class_list, output_class, name=func_name)\n",
    "\n",
    "    def add_all_primitives(self):\n",
    "        for type in ['A', 'B', 'C', 'D']:\n",
    "            class_list = globals()[f\"OPclass_name_2{type}\"]\n",
    "            for class_name in class_list:\n",
    "                self.add_primitive_byclass(class_name)\n",
    "\n",
    "        self.pset.addPrimitive(OP_Closure.id_int, [TypeF], TypeF, name='id_int')\n",
    "        self.pset.addPrimitive(OP_Closure.id_industry, [TypeE], TypeE, name='id_industry')\n",
    "        self.pset.addPrimitive(OP_Closure.id_float, [TypeG], TypeG, name='id_float')\n",
    "\n",
    "        for constant_value in [int(i) for i in [1, 2, 3, 5, 10, 20, 30, 60]]:\n",
    "            self.pset.addTerminal(constant_value, TypeF)\n",
    "\n",
    "        for constant_value in [0.05, 0.1]:\n",
    "            self.pset.addTerminal(constant_value, TypeG)\n",
    "\n",
    "    def compile(self, deap_formula_str_list):\n",
    "        individual_list = []\n",
    "        deap_formula_code_list = [gp.PrimitiveTree.from_string(k, self.pset) for k in deap_formula_str_list]\n",
    "        for inidividual in deap_formula_code_list:\n",
    "            compiled_func = self.toolbox.compile(expr=inidividual)\n",
    "            individual_list.append(compiled_func(*self.data))\n",
    "        return individual_list"
   ]
  },
  {
   "cell_type": "code",
   "execution_count": 7,
   "outputs": [],
   "source": [
    "rpn_compiler=RPN_Compiler([2016])\n",
    "rpn_compiler.prepare_data()\n",
    "rpn_compiler.generate_toolbox()"
   ],
   "metadata": {
    "collapsed": false,
    "ExecuteTime": {
     "end_time": "2025-01-05T11:49:08.858605600Z",
     "start_time": "2025-01-05T11:48:25.585985900Z"
    }
   },
   "id": "daf6d8ef5e968798"
  },
  {
   "cell_type": "code",
   "execution_count": 3,
   "outputs": [],
   "source": [
    "rpn_producer=RPN_Producer()\n",
    "rpn_producer.run()"
   ],
   "metadata": {
    "collapsed": false,
    "ExecuteTime": {
     "end_time": "2025-01-05T11:47:59.781814300Z",
     "start_time": "2025-01-05T11:47:59.776150800Z"
    }
   },
   "id": "708e538df8e93492"
  },
  {
   "cell_type": "code",
   "execution_count": 6,
   "outputs": [],
   "source": [
    "deap_formula_str_list=rpn_producer.tree\n",
    "deap_formula_code_list = [gp.PrimitiveTree.from_string(i, rpn_compiler.pset) for i in deap_formula_str_list]"
   ],
   "metadata": {
    "collapsed": false,
    "ExecuteTime": {
     "end_time": "2025-01-05T11:48:21.414818300Z",
     "start_time": "2025-01-05T11:48:21.412596100Z"
    }
   },
   "id": "c4a59263e4f07084"
  },
  {
   "cell_type": "code",
   "execution_count": 8,
   "outputs": [
    {
     "ename": "ValueError",
     "evalue": "not enough values to unpack (expected 3, got 2)",
     "output_type": "error",
     "traceback": [
      "\u001B[1;31m---------------------------------------------------------------------------\u001B[0m",
      "\u001B[1;31mValueError\u001B[0m                                Traceback (most recent call last)",
      "Cell \u001B[1;32mIn[8], line 3\u001B[0m\n\u001B[0;32m      1\u001B[0m individual\u001B[38;5;241m=\u001B[39mdeap_formula_code_list[\u001B[38;5;241m0\u001B[39m]\n\u001B[0;32m      2\u001B[0m compiled_func\u001B[38;5;241m=\u001B[39mrpn_compiler\u001B[38;5;241m.\u001B[39mtoolbox\u001B[38;5;241m.\u001B[39mcompile(expr\u001B[38;5;241m=\u001B[39mindividual)\n\u001B[1;32m----> 3\u001B[0m factor_tensor\u001B[38;5;241m=\u001B[39mcompiled_func(\u001B[38;5;241m*\u001B[39mrpn_compiler\u001B[38;5;241m.\u001B[39mdata)\n",
      "File \u001B[1;32m<string>:1\u001B[0m, in \u001B[0;36m<lambda>\u001B[1;34m(M_O, M_H, M_L, M_C, M_V, D_O, D_H, D_L, D_C, D_V, industry, TypeD_data, TypeC_data)\u001B[0m\n",
      "File \u001B[1;32m~\\Desktop\\NEW-CODE\\OP\\ToB.py:91\u001B[0m, in \u001B[0;36mOP_B2B.M_cs_scale\u001B[1;34m(M_tensor)\u001B[0m\n\u001B[0;32m     80\u001B[0m \u001B[38;5;129m@staticmethod\u001B[39m\n\u001B[0;32m     81\u001B[0m \u001B[38;5;28;01mdef\u001B[39;00m \u001B[38;5;21mM_cs_scale\u001B[39m(M_tensor):\n\u001B[0;32m     82\u001B[0m \u001B[38;5;250m    \u001B[39m\u001B[38;5;124;03m\"\"\"\u001B[39;00m\n\u001B[0;32m     83\u001B[0m \u001B[38;5;124;03m    日内最大值最小值标准化。\u001B[39;00m\n\u001B[0;32m     84\u001B[0m \n\u001B[1;32m   (...)\u001B[0m\n\u001B[0;32m     89\u001B[0m \u001B[38;5;124;03m    torch.Tensor: 最大值最小值标准化后的张量。\u001B[39;00m\n\u001B[0;32m     90\u001B[0m \u001B[38;5;124;03m    \"\"\"\u001B[39;00m\n\u001B[1;32m---> 91\u001B[0m     num_stock, day_len, minute_len \u001B[38;5;241m=\u001B[39m M_tensor\u001B[38;5;241m.\u001B[39mshape\n\u001B[0;32m     93\u001B[0m     \u001B[38;5;66;03m# 初始化最大值最小值标准化后的张量\u001B[39;00m\n\u001B[0;32m     94\u001B[0m     scaled_tensor \u001B[38;5;241m=\u001B[39m torch\u001B[38;5;241m.\u001B[39mzeros_like(M_tensor)\n",
      "\u001B[1;31mValueError\u001B[0m: not enough values to unpack (expected 3, got 2)"
     ]
    }
   ],
   "source": [
    "individual=deap_formula_code_list[0]\n",
    "compiled_func=rpn_compiler.toolbox.compile(expr=individual)\n",
    "factor_tensor=compiled_func(*rpn_compiler.data)"
   ],
   "metadata": {
    "collapsed": false,
    "ExecuteTime": {
     "end_time": "2025-01-05T11:49:28.423981300Z",
     "start_time": "2025-01-05T11:49:17.347153200Z"
    }
   },
   "id": "154c98bde831712c"
  },
  {
   "cell_type": "code",
   "execution_count": 9,
   "outputs": [
    {
     "data": {
      "text/plain": "'D_ts_std(D_Minute_mean(M_toD_standard(M_at_sign(M_cs_rank(M_ts_delay(M_C, 5)), M_cs_scale(M_ts_mean_right_neighbor(M_V, 60))), D_at_div(D_at_div(D_ts_max(D_O, 20), D_ts_mean(D_L, 5)), D_at_div(D_ts_mean(D_H, 5), D_ts_mean(D_L, 10))))), 3)'"
     },
     "execution_count": 9,
     "metadata": {},
     "output_type": "execute_result"
    }
   ],
   "source": [
    "str(deap_formula_code_list[0])"
   ],
   "metadata": {
    "collapsed": false,
    "ExecuteTime": {
     "end_time": "2025-01-05T11:50:14.680188100Z",
     "start_time": "2025-01-05T11:50:14.665318200Z"
    }
   },
   "id": "4c56315315d114ab"
  },
  {
   "cell_type": "code",
   "execution_count": 1,
   "outputs": [],
   "source": [
    "from pydantic import BaseModel\n",
    "\n",
    "class User(BaseModel):\n",
    "    id: int\n",
    "    name: str\n",
    "    age: int"
   ],
   "metadata": {
    "collapsed": false,
    "ExecuteTime": {
     "end_time": "2025-01-07T13:15:06.325925700Z",
     "start_time": "2025-01-07T13:15:06.260045700Z"
    }
   },
   "id": "528db17e8ad22d8c"
  },
  {
   "cell_type": "code",
   "execution_count": null,
   "outputs": [],
   "source": [],
   "metadata": {
    "collapsed": false
   },
   "id": "541cae839b57063f"
  }
 ],
 "metadata": {
  "kernelspec": {
   "display_name": "Python 3",
   "language": "python",
   "name": "python3"
  },
  "language_info": {
   "codemirror_mode": {
    "name": "ipython",
    "version": 2
   },
   "file_extension": ".py",
   "mimetype": "text/x-python",
   "name": "python",
   "nbconvert_exporter": "python",
   "pygments_lexer": "ipython2",
   "version": "2.7.6"
  }
 },
 "nbformat": 4,
 "nbformat_minor": 5
}
